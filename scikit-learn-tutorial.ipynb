{
 "cells": [
  {
   "cell_type": "code",
   "execution_count": 1,
   "id": "5bfed528",
   "metadata": {},
   "outputs": [],
   "source": [
    "# Put packages in an alphabetical order\n",
    "import numpy as np\n",
    "import pandas as pd\n",
    "\n",
    "from preprocessing.categorical import OneHotEncoding\n",
    "from preprocessing.numerical import Scaler\n",
    "from preprocessing.selector import Selector\n",
    "\n",
    "from sklearn.metrics import classification_report\n",
    "from sklearn.model_selection import train_test_split\n",
    "from sklearn.pipeline import FeatureUnion, Pipeline\n",
    "from sklearn.preprocessing import OneHotEncoder, StandardScaler\n",
    "\n",
    "\n",
    "from sklearn.ensemble import RandomForestClassifier\n",
    "from sklearn.linear_model import LogisticRegression\n",
    "\n"
   ]
  },
  {
   "cell_type": "markdown",
   "id": "6a97aa28",
   "metadata": {},
   "source": [
    "# Create dataframe"
   ]
  },
  {
   "cell_type": "code",
   "execution_count": 2,
   "id": "2ebc4753",
   "metadata": {},
   "outputs": [
    {
     "data": {
      "text/html": [
       "<div>\n",
       "<style scoped>\n",
       "    .dataframe tbody tr th:only-of-type {\n",
       "        vertical-align: middle;\n",
       "    }\n",
       "\n",
       "    .dataframe tbody tr th {\n",
       "        vertical-align: top;\n",
       "    }\n",
       "\n",
       "    .dataframe thead th {\n",
       "        text-align: right;\n",
       "    }\n",
       "</style>\n",
       "<table border=\"1\" class=\"dataframe\">\n",
       "  <thead>\n",
       "    <tr style=\"text-align: right;\">\n",
       "      <th></th>\n",
       "      <th>num1</th>\n",
       "      <th>num2</th>\n",
       "      <th>cat1</th>\n",
       "      <th>cat2</th>\n",
       "      <th>label</th>\n",
       "    </tr>\n",
       "  </thead>\n",
       "  <tbody>\n",
       "    <tr>\n",
       "      <th>1980</th>\n",
       "      <td>0.186101</td>\n",
       "      <td>98.965688</td>\n",
       "      <td>m</td>\n",
       "      <td>d</td>\n",
       "      <td>0</td>\n",
       "    </tr>\n",
       "    <tr>\n",
       "      <th>1981</th>\n",
       "      <td>0.802643</td>\n",
       "      <td>87.609473</td>\n",
       "      <td>m</td>\n",
       "      <td>c</td>\n",
       "      <td>0</td>\n",
       "    </tr>\n",
       "    <tr>\n",
       "      <th>1982</th>\n",
       "      <td>0.458187</td>\n",
       "      <td>120.958435</td>\n",
       "      <td>m</td>\n",
       "      <td>b</td>\n",
       "      <td>0</td>\n",
       "    </tr>\n",
       "    <tr>\n",
       "      <th>1983</th>\n",
       "      <td>0.482969</td>\n",
       "      <td>115.944424</td>\n",
       "      <td>m</td>\n",
       "      <td>a</td>\n",
       "      <td>1</td>\n",
       "    </tr>\n",
       "    <tr>\n",
       "      <th>1984</th>\n",
       "      <td>0.133480</td>\n",
       "      <td>106.789470</td>\n",
       "      <td>m</td>\n",
       "      <td>a</td>\n",
       "      <td>1</td>\n",
       "    </tr>\n",
       "    <tr>\n",
       "      <th>1985</th>\n",
       "      <td>0.080602</td>\n",
       "      <td>91.875977</td>\n",
       "      <td>m</td>\n",
       "      <td>c</td>\n",
       "      <td>0</td>\n",
       "    </tr>\n",
       "    <tr>\n",
       "      <th>1986</th>\n",
       "      <td>0.727939</td>\n",
       "      <td>99.509707</td>\n",
       "      <td>f</td>\n",
       "      <td>b</td>\n",
       "      <td>0</td>\n",
       "    </tr>\n",
       "    <tr>\n",
       "      <th>1987</th>\n",
       "      <td>0.496461</td>\n",
       "      <td>98.396399</td>\n",
       "      <td>m</td>\n",
       "      <td>d</td>\n",
       "      <td>0</td>\n",
       "    </tr>\n",
       "    <tr>\n",
       "      <th>1988</th>\n",
       "      <td>0.436851</td>\n",
       "      <td>103.308513</td>\n",
       "      <td>m</td>\n",
       "      <td>b</td>\n",
       "      <td>0</td>\n",
       "    </tr>\n",
       "    <tr>\n",
       "      <th>1989</th>\n",
       "      <td>0.729508</td>\n",
       "      <td>114.510014</td>\n",
       "      <td>m</td>\n",
       "      <td>d</td>\n",
       "      <td>0</td>\n",
       "    </tr>\n",
       "    <tr>\n",
       "      <th>1990</th>\n",
       "      <td>0.765513</td>\n",
       "      <td>108.794170</td>\n",
       "      <td>m</td>\n",
       "      <td>d</td>\n",
       "      <td>0</td>\n",
       "    </tr>\n",
       "    <tr>\n",
       "      <th>1991</th>\n",
       "      <td>0.158908</td>\n",
       "      <td>89.226239</td>\n",
       "      <td>m</td>\n",
       "      <td>a</td>\n",
       "      <td>0</td>\n",
       "    </tr>\n",
       "    <tr>\n",
       "      <th>1992</th>\n",
       "      <td>0.610225</td>\n",
       "      <td>113.764965</td>\n",
       "      <td>m</td>\n",
       "      <td>c</td>\n",
       "      <td>0</td>\n",
       "    </tr>\n",
       "    <tr>\n",
       "      <th>1993</th>\n",
       "      <td>0.135354</td>\n",
       "      <td>103.131321</td>\n",
       "      <td>m</td>\n",
       "      <td>a</td>\n",
       "      <td>0</td>\n",
       "    </tr>\n",
       "    <tr>\n",
       "      <th>1994</th>\n",
       "      <td>0.751375</td>\n",
       "      <td>106.870658</td>\n",
       "      <td>f</td>\n",
       "      <td>a</td>\n",
       "      <td>0</td>\n",
       "    </tr>\n",
       "    <tr>\n",
       "      <th>1995</th>\n",
       "      <td>0.656955</td>\n",
       "      <td>114.665409</td>\n",
       "      <td>m</td>\n",
       "      <td>a</td>\n",
       "      <td>0</td>\n",
       "    </tr>\n",
       "    <tr>\n",
       "      <th>1996</th>\n",
       "      <td>0.956615</td>\n",
       "      <td>88.884198</td>\n",
       "      <td>m</td>\n",
       "      <td>d</td>\n",
       "      <td>0</td>\n",
       "    </tr>\n",
       "    <tr>\n",
       "      <th>1997</th>\n",
       "      <td>0.068958</td>\n",
       "      <td>99.641744</td>\n",
       "      <td>m</td>\n",
       "      <td>a</td>\n",
       "      <td>0</td>\n",
       "    </tr>\n",
       "    <tr>\n",
       "      <th>1998</th>\n",
       "      <td>0.057055</td>\n",
       "      <td>94.685454</td>\n",
       "      <td>m</td>\n",
       "      <td>d</td>\n",
       "      <td>1</td>\n",
       "    </tr>\n",
       "    <tr>\n",
       "      <th>1999</th>\n",
       "      <td>0.282187</td>\n",
       "      <td>84.321406</td>\n",
       "      <td>m</td>\n",
       "      <td>c</td>\n",
       "      <td>0</td>\n",
       "    </tr>\n",
       "  </tbody>\n",
       "</table>\n",
       "</div>"
      ],
      "text/plain": [
       "          num1        num2 cat1 cat2  label\n",
       "1980  0.186101   98.965688    m    d      0\n",
       "1981  0.802643   87.609473    m    c      0\n",
       "1982  0.458187  120.958435    m    b      0\n",
       "1983  0.482969  115.944424    m    a      1\n",
       "1984  0.133480  106.789470    m    a      1\n",
       "1985  0.080602   91.875977    m    c      0\n",
       "1986  0.727939   99.509707    f    b      0\n",
       "1987  0.496461   98.396399    m    d      0\n",
       "1988  0.436851  103.308513    m    b      0\n",
       "1989  0.729508  114.510014    m    d      0\n",
       "1990  0.765513  108.794170    m    d      0\n",
       "1991  0.158908   89.226239    m    a      0\n",
       "1992  0.610225  113.764965    m    c      0\n",
       "1993  0.135354  103.131321    m    a      0\n",
       "1994  0.751375  106.870658    f    a      0\n",
       "1995  0.656955  114.665409    m    a      0\n",
       "1996  0.956615   88.884198    m    d      0\n",
       "1997  0.068958   99.641744    m    a      0\n",
       "1998  0.057055   94.685454    m    d      1\n",
       "1999  0.282187   84.321406    m    c      0"
      ]
     },
     "execution_count": 2,
     "metadata": {},
     "output_type": "execute_result"
    }
   ],
   "source": [
    "def create_df(N: int = 1000) -> pd.DataFrame:\n",
    "    \"\"\"\n",
    "    Args:\n",
    "        N: size of DataFrame we want to create\n",
    "    Returns:\n",
    "        Random DataFrame\n",
    "    \"\"\"\n",
    "    np.random.seed(42)\n",
    "    # Create numerical columns\n",
    "    num1 = np.random.uniform(size=(N,))\n",
    "    num2 = np.random.normal(loc=100, scale=10, size=(N,))\n",
    "\n",
    "    # Create categorical columns\n",
    "    cat1 = np.random.choice([\"m\", \"f\"], p=[0.8, 0.2], size=(N,))\n",
    "    cat2 = np.random.choice([\"a\", \"b\", \"c\", \"d\"], size=(N,))\n",
    "\n",
    "    label = np.random.choice([0, 1], p=[0.7, 0.3], size=(N,))\n",
    "\n",
    "    # Return dataframe\n",
    "    df = pd.DataFrame(\n",
    "        {\"num1\": num1, \"num2\": num2, \"cat1\": cat1, \"cat2\": cat2, \"label\": label}\n",
    "    )\n",
    "    return df\n",
    "\n",
    "\n",
    "# Create dataframe\n",
    "df = create_df(2000)\n",
    "\n",
    "df.tail(n=20)"
   ]
  },
  {
   "cell_type": "markdown",
   "id": "8dc77c8c",
   "metadata": {},
   "source": [
    "# Train test split"
   ]
  },
  {
   "cell_type": "code",
   "execution_count": 3,
   "id": "f4eacc45",
   "metadata": {},
   "outputs": [],
   "source": [
    "X = df.drop(\"label\", axis=1)\n",
    "y = df[\"label\"]"
   ]
  },
  {
   "cell_type": "code",
   "execution_count": 4,
   "id": "ab8807f1",
   "metadata": {},
   "outputs": [],
   "source": [
    "X_train, X_test, y_train, y_test = train_test_split(\n",
    "    X, y, stratify=y, test_size=0.2, random_state=42\n",
    ")"
   ]
  },
  {
   "cell_type": "markdown",
   "id": "fb2eace6",
   "metadata": {},
   "source": [
    "# Preprocessing"
   ]
  },
  {
   "cell_type": "markdown",
   "id": "66c34769",
   "metadata": {},
   "source": [
    "# Numerical features"
   ]
  },
  {
   "cell_type": "code",
   "execution_count": 5,
   "id": "03e688c1",
   "metadata": {},
   "outputs": [
    {
     "data": {
      "text/plain": [
       "array([[ 1.68087518,  1.22030441],\n",
       "       [ 1.14230242,  0.18202383],\n",
       "       [-1.19218411,  0.04376558],\n",
       "       ...,\n",
       "       [ 0.0229096 ,  1.59490283],\n",
       "       [-0.67179381, -1.55402357],\n",
       "       [-1.22968644, -0.42885218]])"
      ]
     },
     "execution_count": 5,
     "metadata": {},
     "output_type": "execute_result"
    }
   ],
   "source": [
    "scaler = StandardScaler(with_mean=True, with_std=True)\n",
    "X_train_scaled = scaler.fit_transform(X_train[[\"num1\", \"num2\"]])\n",
    "X_train_scaled"
   ]
  },
  {
   "cell_type": "markdown",
   "id": "e148c743",
   "metadata": {},
   "source": [
    "## Categorical features"
   ]
  },
  {
   "cell_type": "code",
   "execution_count": 6,
   "id": "0cc88423",
   "metadata": {},
   "outputs": [],
   "source": [
    "ohe = OneHotEncoder()\n",
    "X_train_ohe = ohe.fit_transform(X_train[[\"cat1\", \"cat2\"]])\n",
    "X_train_ohe = np.asarray(X_train_ohe.todense())"
   ]
  },
  {
   "cell_type": "code",
   "execution_count": 7,
   "id": "74a17259",
   "metadata": {},
   "outputs": [
    {
     "data": {
      "text/plain": [
       "array([[ 1.68087518,  1.22030441,  0.        , ...,  0.        ,\n",
       "         0.        ,  0.        ],\n",
       "       [ 1.14230242,  0.18202383,  0.        , ...,  1.        ,\n",
       "         0.        ,  0.        ],\n",
       "       [-1.19218411,  0.04376558,  0.        , ...,  0.        ,\n",
       "         1.        ,  0.        ],\n",
       "       ...,\n",
       "       [ 0.0229096 ,  1.59490283,  0.        , ...,  1.        ,\n",
       "         0.        ,  0.        ],\n",
       "       [-0.67179381, -1.55402357,  0.        , ...,  0.        ,\n",
       "         1.        ,  0.        ],\n",
       "       [-1.22968644, -0.42885218,  0.        , ...,  0.        ,\n",
       "         0.        ,  0.        ]])"
      ]
     },
     "execution_count": 7,
     "metadata": {},
     "output_type": "execute_result"
    }
   ],
   "source": [
    "X_train_prepared = np.concatenate((X_train_scaled, X_train_ohe), axis=1)\n",
    "\n",
    "X_train_prepared"
   ]
  },
  {
   "cell_type": "code",
   "execution_count": 8,
   "id": "274b37a0",
   "metadata": {},
   "outputs": [
    {
     "data": {
      "text/plain": [
       "array([[ 0.86019   ,  0.01704258,  0.        , ...,  0.        ,\n",
       "         0.        ,  0.        ],\n",
       "       [-1.07393684, -0.43789244,  1.        , ...,  1.        ,\n",
       "         0.        ,  0.        ],\n",
       "       [-0.30917087,  1.39920935,  0.        , ...,  0.        ,\n",
       "         1.        ,  0.        ],\n",
       "       ...,\n",
       "       [-1.6284433 , -0.96293008,  0.        , ...,  0.        ,\n",
       "         0.        ,  0.        ],\n",
       "       [ 0.10661195,  1.51193631,  0.        , ...,  0.        ,\n",
       "         0.        ,  1.        ],\n",
       "       [ 0.70634851,  1.90976143,  0.        , ...,  0.        ,\n",
       "         1.        ,  0.        ]])"
      ]
     },
     "execution_count": 8,
     "metadata": {},
     "output_type": "execute_result"
    }
   ],
   "source": [
    "X_test_scaled = scaler.transform(X_test[[\"num1\", \"num2\"]])\n",
    "X_test_ohe = ohe.transform(X_test[[\"cat1\", \"cat2\"]])\n",
    "X_test_ohe = np.asarray(X_test_ohe.todense())\n",
    "\n",
    "X_test_prepared = np.concatenate((X_test_scaled, X_test_ohe), axis=1)\n",
    "X_test_prepared"
   ]
  },
  {
   "cell_type": "markdown",
   "id": "d9e0d4b1",
   "metadata": {},
   "source": [
    "# Classifier"
   ]
  },
  {
   "cell_type": "code",
   "execution_count": 9,
   "id": "235bfd52",
   "metadata": {},
   "outputs": [
    {
     "data": {
      "text/plain": [
       "RandomForestClassifier(random_state=42)"
      ]
     },
     "execution_count": 9,
     "metadata": {},
     "output_type": "execute_result"
    }
   ],
   "source": [
    "rf = RandomForestClassifier(random_state=42)\n",
    "rf.fit(X_train_prepared, y_train)"
   ]
  },
  {
   "cell_type": "code",
   "execution_count": 10,
   "id": "a599bf2d",
   "metadata": {},
   "outputs": [
    {
     "name": "stdout",
     "output_type": "stream",
     "text": [
      "              precision    recall  f1-score   support\n",
      "\n",
      "           0       0.73      0.91      0.81       288\n",
      "           1       0.36      0.12      0.19       112\n",
      "\n",
      "    accuracy                           0.69       400\n",
      "   macro avg       0.54      0.52      0.50       400\n",
      "weighted avg       0.63      0.69      0.64       400\n",
      "\n"
     ]
    }
   ],
   "source": [
    "y_pred = rf.predict(X_test_prepared)\n",
    "print(classification_report(y_true=y_test, y_pred=y_pred))"
   ]
  },
  {
   "cell_type": "markdown",
   "id": "4e8e1d5f",
   "metadata": {},
   "source": [
    "# Better way of setting a preprocessing pipeline"
   ]
  },
  {
   "cell_type": "code",
   "execution_count": 11,
   "id": "baa344a1",
   "metadata": {},
   "outputs": [],
   "source": [
    "# Set numerical pipeline\n",
    "num_pipeline = Pipeline(\n",
    "    steps=[\n",
    "        (\"selector\", Selector([\"num1\", \"num2\"])),\n",
    "        (\"scaler\", Scaler(with_mean=True, with_std=True)),\n",
    "    ]\n",
    ")\n",
    "\n",
    "# Set categorical pipeline\n",
    "cat_pipeline = Pipeline(\n",
    "    steps=[(\"selector\", Selector([\"cat1\", \"cat2\"])), (\"ohe\", OneHotEncoding())]\n",
    ")\n",
    "\n",
    "\n",
    "# Set feature union\n",
    "feature_union = FeatureUnion(\n",
    "    transformer_list=[\n",
    "        (\"num_pipeline\", num_pipeline),\n",
    "        (\"categorical_pipeline\", cat_pipeline),\n",
    "    ]\n",
    ")"
   ]
  },
  {
   "cell_type": "code",
   "execution_count": 12,
   "id": "f12c15b3",
   "metadata": {},
   "outputs": [],
   "source": [
    "X_train_prepared_2 = feature_union.fit_transform(X_train, y_train)\n",
    "\n",
    "X_test_prepared_2 = feature_union.transform(X_test)"
   ]
  },
  {
   "cell_type": "code",
   "execution_count": 13,
   "id": "175c7db3",
   "metadata": {},
   "outputs": [
    {
     "name": "stdout",
     "output_type": "stream",
     "text": [
      "              precision    recall  f1-score   support\n",
      "\n",
      "           0       0.73      0.91      0.81       288\n",
      "           1       0.36      0.12      0.19       112\n",
      "\n",
      "    accuracy                           0.69       400\n",
      "   macro avg       0.54      0.52      0.50       400\n",
      "weighted avg       0.63      0.69      0.64       400\n",
      "\n"
     ]
    }
   ],
   "source": [
    "rf = RandomForestClassifier(random_state=42)\n",
    "rf.fit(X_train_prepared, y_train)\n",
    "\n",
    "y_pred = rf.predict(X_test_prepared_2)\n",
    "print(classification_report(y_true=y_test, y_pred=y_pred))"
   ]
  },
  {
   "cell_type": "code",
   "execution_count": null,
   "id": "8a7eeb70",
   "metadata": {},
   "outputs": [],
   "source": []
  }
 ],
 "metadata": {
  "kernelspec": {
   "display_name": "Python [conda env:ml]",
   "language": "python",
   "name": "conda-env-ml-py"
  },
  "language_info": {
   "codemirror_mode": {
    "name": "ipython",
    "version": 3
   },
   "file_extension": ".py",
   "mimetype": "text/x-python",
   "name": "python",
   "nbconvert_exporter": "python",
   "pygments_lexer": "ipython3",
   "version": "3.9.6"
  }
 },
 "nbformat": 4,
 "nbformat_minor": 5
}
